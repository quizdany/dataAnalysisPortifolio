{
 "cells": [
  {
   "cell_type": "code",
   "execution_count": 2,
   "id": "a97a93f5",
   "metadata": {},
   "outputs": [],
   "source": [
    "#Importing all the necessary libraries\n",
    "\n",
    "import pandas as pd\n",
    "import matplotlib.pyplot as plt\n",
    "import numpy as np\n",
    "from sklearn.linear_model import LinearRegression\n",
    "import statsmodels.api as sm\n",
    "from sklearn.metrics import r2_score\n",
    "from sklearn.linear_model import RidgeCV,ElasticNetCV,Lasso\n",
    "from regressors import stats\n",
    "from scipy.stats import ttest_ind"
   ]
  },
  {
   "cell_type": "markdown",
   "id": "ede8edf5",
   "metadata": {},
   "source": [
    "### Exploratory Data Analysis\n"
   ]
  },
  {
   "cell_type": "code",
   "execution_count": 7,
   "id": "9621e385",
   "metadata": {},
   "outputs": [
    {
     "name": "stderr",
     "output_type": "stream",
     "text": [
      "C:\\Users\\quizd\\anaconda3\\lib\\site-packages\\openpyxl\\worksheet\\header_footer.py:48: UserWarning: Cannot parse header or footer so it will be ignored\n",
      "  warn(\"\"\"Cannot parse header or footer so it will be ignored\"\"\")\n"
     ]
    }
   ],
   "source": [
    "#Importing data from the excel file\n",
    "data = pd.read_excel('MPIAssignment.xlsx')"
   ]
  },
  {
   "cell_type": "code",
   "execution_count": 8,
   "id": "dcb2ba60",
   "metadata": {},
   "outputs": [
    {
     "data": {
      "text/html": [
       "<div>\n",
       "<style scoped>\n",
       "    .dataframe tbody tr th:only-of-type {\n",
       "        vertical-align: middle;\n",
       "    }\n",
       "\n",
       "    .dataframe tbody tr th {\n",
       "        vertical-align: top;\n",
       "    }\n",
       "\n",
       "    .dataframe thead th {\n",
       "        text-align: right;\n",
       "    }\n",
       "</style>\n",
       "<table border=\"1\" class=\"dataframe\">\n",
       "  <thead>\n",
       "    <tr style=\"text-align: right;\">\n",
       "      <th></th>\n",
       "      <th>FID</th>\n",
       "      <th>Prov_ID</th>\n",
       "      <th>Province</th>\n",
       "      <th>Dist_ID</th>\n",
       "      <th>District</th>\n",
       "      <th>Sect_ID</th>\n",
       "      <th>Sector</th>\n",
       "      <th>nightlight_sum</th>\n",
       "      <th>landscan_pop</th>\n",
       "      <th>mpi_headcount</th>\n",
       "      <th>mpi_intensity</th>\n",
       "      <th>mpi</th>\n",
       "    </tr>\n",
       "  </thead>\n",
       "  <tbody>\n",
       "    <tr>\n",
       "      <th>0</th>\n",
       "      <td>0</td>\n",
       "      <td>1</td>\n",
       "      <td>Kigali City</td>\n",
       "      <td>11</td>\n",
       "      <td>Nyarugenge</td>\n",
       "      <td>1101</td>\n",
       "      <td>Gitega</td>\n",
       "      <td>101.297202</td>\n",
       "      <td>30758</td>\n",
       "      <td>0.064</td>\n",
       "      <td>0.412</td>\n",
       "      <td>0.027</td>\n",
       "    </tr>\n",
       "    <tr>\n",
       "      <th>1</th>\n",
       "      <td>1</td>\n",
       "      <td>1</td>\n",
       "      <td>Kigali City</td>\n",
       "      <td>11</td>\n",
       "      <td>Nyarugenge</td>\n",
       "      <td>1102</td>\n",
       "      <td>Kanyinya</td>\n",
       "      <td>85.060422</td>\n",
       "      <td>19802</td>\n",
       "      <td>0.282</td>\n",
       "      <td>0.445</td>\n",
       "      <td>0.126</td>\n",
       "    </tr>\n",
       "    <tr>\n",
       "      <th>2</th>\n",
       "      <td>2</td>\n",
       "      <td>1</td>\n",
       "      <td>Kigali City</td>\n",
       "      <td>11</td>\n",
       "      <td>Nyarugenge</td>\n",
       "      <td>1103</td>\n",
       "      <td>Kigali</td>\n",
       "      <td>133.991142</td>\n",
       "      <td>26452</td>\n",
       "      <td>0.212</td>\n",
       "      <td>0.434</td>\n",
       "      <td>0.092</td>\n",
       "    </tr>\n",
       "    <tr>\n",
       "      <th>3</th>\n",
       "      <td>3</td>\n",
       "      <td>1</td>\n",
       "      <td>Kigali City</td>\n",
       "      <td>11</td>\n",
       "      <td>Nyarugenge</td>\n",
       "      <td>1104</td>\n",
       "      <td>Kimisagara</td>\n",
       "      <td>161.933015</td>\n",
       "      <td>62266</td>\n",
       "      <td>0.081</td>\n",
       "      <td>0.409</td>\n",
       "      <td>0.033</td>\n",
       "    </tr>\n",
       "    <tr>\n",
       "      <th>4</th>\n",
       "      <td>4</td>\n",
       "      <td>1</td>\n",
       "      <td>Kigali City</td>\n",
       "      <td>11</td>\n",
       "      <td>Nyarugenge</td>\n",
       "      <td>1105</td>\n",
       "      <td>Mageregere</td>\n",
       "      <td>49.415699</td>\n",
       "      <td>23144</td>\n",
       "      <td>0.369</td>\n",
       "      <td>0.430</td>\n",
       "      <td>0.159</td>\n",
       "    </tr>\n",
       "  </tbody>\n",
       "</table>\n",
       "</div>"
      ],
      "text/plain": [
       "   FID  Prov_ID     Province  Dist_ID    District  Sect_ID      Sector  \\\n",
       "0    0        1  Kigali City       11  Nyarugenge     1101      Gitega   \n",
       "1    1        1  Kigali City       11  Nyarugenge     1102    Kanyinya   \n",
       "2    2        1  Kigali City       11  Nyarugenge     1103      Kigali   \n",
       "3    3        1  Kigali City       11  Nyarugenge     1104  Kimisagara   \n",
       "4    4        1  Kigali City       11  Nyarugenge     1105  Mageregere   \n",
       "\n",
       "   nightlight_sum  landscan_pop  mpi_headcount  mpi_intensity    mpi  \n",
       "0      101.297202         30758          0.064          0.412  0.027  \n",
       "1       85.060422         19802          0.282          0.445  0.126  \n",
       "2      133.991142         26452          0.212          0.434  0.092  \n",
       "3      161.933015         62266          0.081          0.409  0.033  \n",
       "4       49.415699         23144          0.369          0.430  0.159  "
      ]
     },
     "execution_count": 8,
     "metadata": {},
     "output_type": "execute_result"
    }
   ],
   "source": [
    "data.head()"
   ]
  },
  {
   "cell_type": "code",
   "execution_count": 9,
   "id": "bd980371",
   "metadata": {},
   "outputs": [],
   "source": [
    "#Identifying the features\n",
    "features = data[['nightlight_sum','landscan_pop','mpi_headcount','mpi_intensity']]"
   ]
  },
  {
   "cell_type": "code",
   "execution_count": 10,
   "id": "58cb1842",
   "metadata": {},
   "outputs": [
    {
     "data": {
      "text/plain": [
       "Text(0.5, 1.0, 'Night light histogram')"
      ]
     },
     "execution_count": 10,
     "metadata": {},
     "output_type": "execute_result"
    },
    {
     "data": {
      "image/png": "[encoded data removed]",
      "text/plain": [
       "<Figure size 720x432 with 1 Axes>"
      ]
     },
     "metadata": {
      "needs_background": "light"
     },
     "output_type": "display_data"
    }
   ],
   "source": [
    "#Plotting the histogram for nightlife\n",
    "plt.rcParams[\"figure.figsize\"] = (10,6)\n",
    "plt.hist(data['nightlight_sum'],bins = 25);\n",
    "plt.title('Night light histogram',fontweight = 'bold')"
   ]
  },
  {
   "cell_type": "code",
   "execution_count": 11,
   "id": "b30e927c",
   "metadata": {},
   "outputs": [
    {
     "data": {
      "text/plain": [
       "Text(0.5, 1.0, 'landscan histogram')"
      ]
     },
     "execution_count": 11,
     "metadata": {},
     "output_type": "execute_result"
    },
    {
     "data": {
      "image/png": "[encoded data removed]",
      "text/plain": [
       "<Figure size 720x432 with 1 Axes>"
      ]
     },
     "metadata": {
      "needs_background": "light"
     },
     "output_type": "display_data"
    }
   ],
   "source": [
    "#Plotting the histogram for the landscan\n",
    "plt.rcParams[\"figure.figsize\"] = (10,6)\n",
    "plt.hist(data['landscan_pop'],bins = 25);\n",
    "plt.title('landscan histogram',fontweight = 'bold')"
   ]
  },
  {
   "cell_type": "code",
   "execution_count": 12,
   "id": "abe33e6a",
   "metadata": {},
   "outputs": [
    {
     "data": {
      "text/plain": [
       "Text(0.5, 1.0, 'Headcount histogram')"
      ]
     },
     "execution_count": 12,
     "metadata": {},
     "output_type": "execute_result"
    },
    {
     "data": {
      "image/png": "[encoded data removed]",
      "text/plain": [
       "<Figure size 720x432 with 1 Axes>"
      ]
     },
     "metadata": {
      "needs_background": "light"
     },
     "output_type": "display_data"
    }
   ],
   "source": [
    "#plotting the histogram for the headcount\n",
    "plt.rcParams[\"figure.figsize\"] = (10,6)\n",
    "plt.hist(data['mpi_headcount'],bins = 25);\n",
    "plt.title('Headcount histogram',fontweight = 'bold')"
   ]
  },
  {
   "cell_type": "code",
   "execution_count": 13,
   "id": "93d0293b",
   "metadata": {},
   "outputs": [
    {
     "data": {
      "text/plain": [
       "Text(0.5, 1.0, 'MPI histogram')"
      ]
     },
     "execution_count": 13,
     "metadata": {},
     "output_type": "execute_result"
    },
    {
     "data": {
      "image/png": "[encoded data removed]",
      "text/plain": [
       "<Figure size 720x432 with 1 Axes>"
      ]
     },
     "metadata": {
      "needs_background": "light"
     },
     "output_type": "display_data"
    }
   ],
   "source": [
    "#Plotting the histogram for the MPI\n",
    "plt.rcParams[\"figure.figsize\"] = (10,6)\n",
    "plt.hist(data['mpi'],bins = 25);\n",
    "plt.title('MPI histogram',fontweight = 'bold')"
   ]
  },
  {
   "cell_type": "code",
   "execution_count": 9,
   "id": "c9ac321e",
   "metadata": {},
   "outputs": [
    {
     "data": {
      "text/plain": [
       "Text(0.5, 1.0, 'MPI intensity histogram')"
      ]
     },
     "execution_count": 9,
     "metadata": {},
     "output_type": "execute_result"
    },
    {
     "data": {
      "image/png": "[encoded data removed]",
      "text/plain": [
       "<Figure size 720x432 with 1 Axes>"
      ]
     },
     "metadata": {
      "needs_background": "light"
     },
     "output_type": "display_data"
    }
   ],
   "source": [
    "#plotting the histogram for MPI intensity\n",
    "plt.rcParams[\"figure.figsize\"] = (10,6)\n",
    "plt.hist(data['mpi_intensity'],bins = 25);\n",
    "plt.title('MPI intensity histogram',fontweight = 'bold')"
   ]
  },
  {
   "cell_type": "markdown",
   "id": "ca20a592",
   "metadata": {},
   "source": [
    "### Exploring various correlations among features"
   ]
  },
  {
   "cell_type": "code",
   "execution_count": 14,
   "id": "01dc26e8",
   "metadata": {},
   "outputs": [
    {
     "data": {
      "text/plain": [
       "Text(0, 0.5, 'Night light sum')"
      ]
     },
     "execution_count": 14,
     "metadata": {},
     "output_type": "execute_result"
    },
    {
     "data": {
      "image/png": "[encoded data removed]",
      "text/plain": [
       "<Figure size 720x432 with 1 Axes>"
      ]
     },
     "metadata": {
      "needs_background": "light"
     },
     "output_type": "display_data"
    }
   ],
   "source": [
    "#correlation of MPI and Nightlight\n",
    "plt.rcParams[\"figure.figsize\"] = (10,6)\n",
    "plt.scatter(data['nightlight_sum'],data['mpi'])\n",
    "plt.title('MPI vs Nightlight sum ',fontweight = 'bold')\n",
    "plt.xlabel('MPI')\n",
    "plt.ylabel('Night light sum')"
   ]
  },
  {
   "cell_type": "code",
   "execution_count": 15,
   "id": "38c00859",
   "metadata": {},
   "outputs": [
    {
     "data": {
      "text/plain": [
       "Text(0, 0.5, 'MPI headcount')"
      ]
     },
     "execution_count": 15,
     "metadata": {},
     "output_type": "execute_result"
    },
    {
     "data": {
      "image/png": "[encoded data removed]",
      "text/plain": [
       "<Figure size 720x432 with 1 Axes>"
      ]
     },
     "metadata": {
      "needs_background": "light"
     },
     "output_type": "display_data"
    }
   ],
   "source": [
    "#Plotting the correlation of MPI and MPI headcount\n",
    "plt.rcParams[\"figure.figsize\"] = (10,6)\n",
    "plt.scatter(data['mpi'],data['mpi_headcount'])\n",
    "plt.title('MPI vs MPI headcount',fontweight = 'bold')\n",
    "plt.xlabel('MPI')\n",
    "plt.ylabel('MPI headcount')"
   ]
  },
  {
   "cell_type": "code",
   "execution_count": 16,
   "id": "f8beb6d2",
   "metadata": {},
   "outputs": [
    {
     "data": {
      "text/plain": [
       "Text(0, 0.5, 'MPI intensity')"
      ]
     },
     "execution_count": 16,
     "metadata": {},
     "output_type": "execute_result"
    },
    {
     "data": {
      "image/png": "[encoded data removed]",
      "text/plain": [
       "<Figure size 720x432 with 1 Axes>"
      ]
     },
     "metadata": {
      "needs_background": "light"
     },
     "output_type": "display_data"
    }
   ],
   "source": [
    "#plotting the correlation of MPI and MPI intensity\n",
    "plt.rcParams[\"figure.figsize\"] = (10,6)\n",
    "plt.scatter(data['mpi_intensity'],data['mpi'])\n",
    "plt.title('MPI vs MPI intensity',fontweight = 'bold')\n",
    "plt.xlabel('MPI')\n",
    "plt.ylabel('MPI intensity')"
   ]
  },
  {
   "cell_type": "code",
   "execution_count": 17,
   "id": "e58b85c5",
   "metadata": {},
   "outputs": [
    {
     "data": {
      "text/plain": [
       "Text(0, 0.5, 'Population')"
      ]
     },
     "execution_count": 17,
     "metadata": {},
     "output_type": "execute_result"
    },
    {
     "data": {
      "image/png": "[encoded data removed]",
      "text/plain": [
       "<Figure size 720x432 with 1 Axes>"
      ]
     },
     "metadata": {
      "needs_background": "light"
     },
     "output_type": "display_data"
    }
   ],
   "source": [
    "#Plotting the correlation of MPI and Population\n",
    "plt.rcParams[\"figure.figsize\"] = (10,6)\n",
    "plt.scatter(data['landscan_pop'],data['mpi'])\n",
    "plt.title('MPI vs Population',fontweight = 'bold')\n",
    "plt.xlabel('MPI')\n",
    "plt.ylabel('Population')"
   ]
  },
  {
   "cell_type": "markdown",
   "id": "63261d1b",
   "metadata": {},
   "source": [
    "### Creating the table of correlations"
   ]
  },
  {
   "cell_type": "code",
   "execution_count": 18,
   "id": "78abf228",
   "metadata": {},
   "outputs": [
    {
     "name": "stdout",
     "output_type": "stream",
     "text": [
      "The correlation of mpi withnightlight_sum:  -0.5283488215627704\n",
      "The correlation of mpi withlandscan_pop:  -0.17278184955090173\n",
      "The correlation of mpi withmpi_headcount:  0.9953781778518253\n",
      "The correlation of mpi withmpi_intensity:  0.7998831131635528\n"
     ]
    }
   ],
   "source": [
    "list1 = []\n",
    "#i\n",
    "for i in features:\n",
    "    list1.append(pd.Series.corr(data[i],data['mpi']))\n",
    "    print('The correlation of mpi with'+i+': ',pd.Series.corr(data[i],data['mpi']))"
   ]
  },
  {
   "cell_type": "code",
   "execution_count": 19,
   "id": "cc77d5b3",
   "metadata": {},
   "outputs": [
    {
     "data": {
      "text/plain": [
       "[-0.5283488215627704,\n",
       " -0.17278184955090173,\n",
       " 0.9953781778518253,\n",
       " 0.7998831131635528]"
      ]
     },
     "execution_count": 19,
     "metadata": {},
     "output_type": "execute_result"
    }
   ],
   "source": [
    "list1"
   ]
  },
  {
   "cell_type": "code",
   "execution_count": 20,
   "id": "6d2a26b8",
   "metadata": {},
   "outputs": [
    {
     "name": "stdout",
     "output_type": "stream",
     "text": [
      "The correlation of mpi with log nightlight_sum:  -0.5758158012690007\n",
      "The correlation of mpi with log landscan_pop:  -0.113587148729851\n",
      "The correlation of mpi with log mpi_headcount:  0.922130693271593\n",
      "The correlation of mpi with log mpi_intensity:  0.8034733734916467\n"
     ]
    }
   ],
   "source": [
    "#ii\n",
    "list2 = []\n",
    "for i in features:\n",
    "    list2.append(pd.Series.corr(np.log(data[i]),data['mpi']))\n",
    "    print('The correlation of mpi with log '+i+': ',pd.Series.corr(np.log(data[i]),data['mpi']))"
   ]
  },
  {
   "cell_type": "code",
   "execution_count": 21,
   "id": "54b4396f",
   "metadata": {},
   "outputs": [
    {
     "data": {
      "text/plain": [
       "[-0.5758158012690007,\n",
       " -0.113587148729851,\n",
       " 0.922130693271593,\n",
       " 0.8034733734916467]"
      ]
     },
     "execution_count": 21,
     "metadata": {},
     "output_type": "execute_result"
    }
   ],
   "source": [
    "list2"
   ]
  },
  {
   "cell_type": "code",
   "execution_count": 22,
   "id": "67b807ee",
   "metadata": {},
   "outputs": [
    {
     "name": "stdout",
     "output_type": "stream",
     "text": [
      "The correlation of log mpi withnightlight_sum:  -0.6389269687490735\n",
      "The correlation of log mpi withlandscan_pop:  -0.2233421338720428\n",
      "The correlation of log mpi withmpi_headcount:  0.9422003792915737\n",
      "The correlation of log mpi withmpi_intensity:  0.7691127308364137\n"
     ]
    }
   ],
   "source": [
    "#iii\n",
    "list3 = []\n",
    "for i in features:\n",
    "    list3.append(pd.Series.corr(data[i],np.log(data['mpi'])))\n",
    "    print('The correlation of log mpi with'+i+': ',pd.Series.corr(data[i],np.log(data['mpi'])))"
   ]
  },
  {
   "cell_type": "code",
   "execution_count": 23,
   "id": "4a8434ce",
   "metadata": {},
   "outputs": [
    {
     "data": {
      "text/plain": [
       "[-0.6389269687490735,\n",
       " -0.2233421338720428,\n",
       " 0.9422003792915737,\n",
       " 0.7691127308364137]"
      ]
     },
     "execution_count": 23,
     "metadata": {},
     "output_type": "execute_result"
    }
   ],
   "source": [
    "list3"
   ]
  },
  {
   "cell_type": "code",
   "execution_count": 24,
   "id": "b6c62613",
   "metadata": {},
   "outputs": [
    {
     "name": "stdout",
     "output_type": "stream",
     "text": [
      "The correlation of log mpi with log nightlight_sum:  -0.6170780029712375\n",
      "The correlation of log mpi with log landscan_pop:  -0.16011031369824708\n",
      "The correlation of log mpi with log mpi_headcount:  0.9985073413337329\n",
      "The correlation of log mpi with log mpi_intensity:  0.7818760495665169\n"
     ]
    }
   ],
   "source": [
    "#iv\n",
    "list4 = []\n",
    "for i in features:\n",
    "    list4.append(pd.Series.corr(np.log(data[i]),np.log(data['mpi'])))\n",
    "    print('The correlation of log mpi with log '+i+': ',pd.Series.corr(np.log(data[i]),np.log(data['mpi'])))"
   ]
  },
  {
   "cell_type": "code",
   "execution_count": 25,
   "id": "1344a624",
   "metadata": {},
   "outputs": [
    {
     "data": {
      "text/plain": [
       "[-0.6170780029712375,\n",
       " -0.16011031369824708,\n",
       " 0.9985073413337329,\n",
       " 0.7818760495665169]"
      ]
     },
     "execution_count": 25,
     "metadata": {},
     "output_type": "execute_result"
    }
   ],
   "source": [
    "list4"
   ]
  },
  {
   "cell_type": "code",
   "execution_count": 26,
   "id": "f9dbf90b",
   "metadata": {},
   "outputs": [],
   "source": [
    "table = pd.DataFrame(columns = ['X vs y','log X vs y','X vs log y','log X vs log y'])"
   ]
  },
  {
   "cell_type": "code",
   "execution_count": 27,
   "id": "bd95f5e6",
   "metadata": {},
   "outputs": [],
   "source": [
    "table['X vs y'] = list1\n",
    "table['log X vs y'] = list2\n",
    "table['X vs log y'] = list3\n",
    "table['log X vs log y'] =list4\n"
   ]
  },
  {
   "cell_type": "code",
   "execution_count": 28,
   "id": "3d9692a2",
   "metadata": {},
   "outputs": [],
   "source": [
    "table.index = ['nightlight_sum','landscan_pop','mpi_headcount','mpi_intensity']"
   ]
  },
  {
   "cell_type": "code",
   "execution_count": 29,
   "id": "9d7fb3ef",
   "metadata": {},
   "outputs": [],
   "source": [
    "table = table.T"
   ]
  },
  {
   "cell_type": "code",
   "execution_count": 30,
   "id": "d844189a",
   "metadata": {},
   "outputs": [
    {
     "data": {
      "text/plain": [
       "nightlight_sum   -0.528349\n",
       "landscan_pop     -0.172782\n",
       "mpi_headcount     0.995378\n",
       "mpi_intensity     0.799883\n",
       "Name: X vs y, dtype: float64"
      ]
     },
     "execution_count": 30,
     "metadata": {},
     "output_type": "execute_result"
    }
   ],
   "source": [
    "table.T['X vs y']"
   ]
  },
  {
   "cell_type": "code",
   "execution_count": 31,
   "id": "d4727f68",
   "metadata": {},
   "outputs": [
    {
     "data": {
      "text/plain": [
       "nightlight_sum   -0.575816\n",
       "landscan_pop     -0.113587\n",
       "mpi_headcount     0.922131\n",
       "mpi_intensity     0.803473\n",
       "Name: log X vs y, dtype: float64"
      ]
     },
     "execution_count": 31,
     "metadata": {},
     "output_type": "execute_result"
    }
   ],
   "source": [
    "table.T['log X vs y']"
   ]
  },
  {
   "cell_type": "code",
   "execution_count": 32,
   "id": "9d4ebf31",
   "metadata": {},
   "outputs": [
    {
     "data": {
      "text/plain": [
       "nightlight_sum   -0.638927\n",
       "landscan_pop     -0.223342\n",
       "mpi_headcount     0.942200\n",
       "mpi_intensity     0.769113\n",
       "Name: X vs log y, dtype: float64"
      ]
     },
     "execution_count": 32,
     "metadata": {},
     "output_type": "execute_result"
    }
   ],
   "source": [
    "table.T['X vs log y']"
   ]
  },
  {
   "cell_type": "code",
   "execution_count": 33,
   "id": "019cc80c",
   "metadata": {},
   "outputs": [
    {
     "data": {
      "text/plain": [
       "nightlight_sum   -0.617078\n",
       "landscan_pop     -0.160110\n",
       "mpi_headcount     0.998507\n",
       "mpi_intensity     0.781876\n",
       "Name: log X vs log y, dtype: float64"
      ]
     },
     "execution_count": 33,
     "metadata": {},
     "output_type": "execute_result"
    }
   ],
   "source": [
    "table.T['log X vs log y']"
   ]
  },
  {
   "cell_type": "code",
   "execution_count": 34,
   "id": "a2576f37",
   "metadata": {},
   "outputs": [
    {
     "data": {
      "text/html": [
       "<div>\n",
       "<style scoped>\n",
       "    .dataframe tbody tr th:only-of-type {\n",
       "        vertical-align: middle;\n",
       "    }\n",
       "\n",
       "    .dataframe tbody tr th {\n",
       "        vertical-align: top;\n",
       "    }\n",
       "\n",
       "    .dataframe thead th {\n",
       "        text-align: right;\n",
       "    }\n",
       "</style>\n",
       "<table border=\"1\" class=\"dataframe\">\n",
       "  <thead>\n",
       "    <tr style=\"text-align: right;\">\n",
       "      <th></th>\n",
       "      <th>nightlight_sum</th>\n",
       "      <th>landscan_pop</th>\n",
       "      <th>mpi_headcount</th>\n",
       "      <th>mpi_intensity</th>\n",
       "    </tr>\n",
       "  </thead>\n",
       "  <tbody>\n",
       "    <tr>\n",
       "      <th>X vs y</th>\n",
       "      <td>-0.528349</td>\n",
       "      <td>-0.172782</td>\n",
       "      <td>0.995378</td>\n",
       "      <td>0.799883</td>\n",
       "    </tr>\n",
       "    <tr>\n",
       "      <th>log X vs y</th>\n",
       "      <td>-0.575816</td>\n",
       "      <td>-0.113587</td>\n",
       "      <td>0.922131</td>\n",
       "      <td>0.803473</td>\n",
       "    </tr>\n",
       "    <tr>\n",
       "      <th>X vs log y</th>\n",
       "      <td>-0.638927</td>\n",
       "      <td>-0.223342</td>\n",
       "      <td>0.942200</td>\n",
       "      <td>0.769113</td>\n",
       "    </tr>\n",
       "    <tr>\n",
       "      <th>log X vs log y</th>\n",
       "      <td>-0.617078</td>\n",
       "      <td>-0.160110</td>\n",
       "      <td>0.998507</td>\n",
       "      <td>0.781876</td>\n",
       "    </tr>\n",
       "  </tbody>\n",
       "</table>\n",
       "</div>"
      ],
      "text/plain": [
       "                nightlight_sum  landscan_pop  mpi_headcount  mpi_intensity\n",
       "X vs y               -0.528349     -0.172782       0.995378       0.799883\n",
       "log X vs y           -0.575816     -0.113587       0.922131       0.803473\n",
       "X vs log y           -0.638927     -0.223342       0.942200       0.769113\n",
       "log X vs log y       -0.617078     -0.160110       0.998507       0.781876"
      ]
     },
     "execution_count": 34,
     "metadata": {},
     "output_type": "execute_result"
    }
   ],
   "source": [
    "table"
   ]
  },
  {
   "cell_type": "code",
   "execution_count": 31,
   "id": "977e3c52",
   "metadata": {},
   "outputs": [],
   "source": [
    "#i\n",
    "data['nightlight_per_capita'] = data['nightlight_sum'] / data['landscan_pop']"
   ]
  },
  {
   "cell_type": "code",
   "execution_count": 32,
   "id": "48d73374",
   "metadata": {},
   "outputs": [],
   "source": [
    "rw_nightlight_data = pd.read_excel('rw_nightlight_2015_07.xls')"
   ]
  },
  {
   "cell_type": "code",
   "execution_count": 33,
   "id": "f1552918",
   "metadata": {},
   "outputs": [
    {
     "data": {
      "text/plain": [
       "0    0.003293\n",
       "1    0.004296\n",
       "2    0.005065\n",
       "3    0.002601\n",
       "4    0.002135\n",
       "Name: nightlight_per_capita, dtype: float64"
      ]
     },
     "execution_count": 33,
     "metadata": {},
     "output_type": "execute_result"
    }
   ],
   "source": [
    "data['nightlight_per_capita'].head()"
   ]
  },
  {
   "cell_type": "code",
   "execution_count": 34,
   "id": "e10fa973",
   "metadata": {},
   "outputs": [],
   "source": [
    "data['area'] = rw_nightlight_data.AREA"
   ]
  },
  {
   "cell_type": "code",
   "execution_count": 35,
   "id": "88e31651",
   "metadata": {},
   "outputs": [],
   "source": [
    "#ii\n",
    "data['population_density'] = data['landscan_pop'] / data['area']"
   ]
  },
  {
   "cell_type": "code",
   "execution_count": 36,
   "id": "d74170d3",
   "metadata": {},
   "outputs": [
    {
     "data": {
      "text/plain": [
       "0    3.556028e+08\n",
       "1    1.040623e+07\n",
       "2    1.116131e+07\n",
       "3    2.249614e+08\n",
       "4    5.394657e+06\n",
       "Name: population_density, dtype: float64"
      ]
     },
     "execution_count": 36,
     "metadata": {},
     "output_type": "execute_result"
    }
   ],
   "source": [
    "data['population_density'].head()"
   ]
  },
  {
   "cell_type": "code",
   "execution_count": 37,
   "id": "6a539220",
   "metadata": {},
   "outputs": [
    {
     "data": {
      "text/plain": [
       "Text(0.5, 1.0, 'Nightlight per Capita histogram')"
      ]
     },
     "execution_count": 37,
     "metadata": {},
     "output_type": "execute_result"
    },
    {
     "data": {
      "image/png": "[encoded data removed]",
      "text/plain": [
       "<Figure size 720x432 with 1 Axes>"
      ]
     },
     "metadata": {
      "needs_background": "light"
     },
     "output_type": "display_data"
    }
   ],
   "source": [
    "plt.rcParams[\"figure.figsize\"] = (10,6)\n",
    "plt.hist(data['nightlight_per_capita'],bins = 25);\n",
    "plt.title('Nightlight per Capita histogram',fontweight = 'bold')"
   ]
  },
  {
   "cell_type": "code",
   "execution_count": 38,
   "id": "5c6c40f7",
   "metadata": {},
   "outputs": [
    {
     "data": {
      "text/plain": [
       "Text(0.5, 1.0, 'Population density histogram')"
      ]
     },
     "execution_count": 38,
     "metadata": {},
     "output_type": "execute_result"
    },
    {
     "data": {
      "image/png": "[encoded data removed]",
      "text/plain": [
       "<Figure size 720x432 with 1 Axes>"
      ]
     },
     "metadata": {
      "needs_background": "light"
     },
     "output_type": "display_data"
    }
   ],
   "source": [
    "plt.rcParams[\"figure.figsize\"] = (10,6)\n",
    "plt.hist(data['population_density'],bins = 25);\n",
    "plt.title('Population density histogram',fontweight = 'bold')"
   ]
  },
  {
   "cell_type": "code",
   "execution_count": 39,
   "id": "e624b673",
   "metadata": {},
   "outputs": [
    {
     "data": {
      "text/plain": [
       "Text(0.5, 1.0, 'MPI histogram')"
      ]
     },
     "execution_count": 39,
     "metadata": {},
     "output_type": "execute_result"
    },
    {
     "data": {
      "image/png": "[encoded data removed]",
      "text/plain": [
       "<Figure size 720x432 with 1 Axes>"
      ]
     },
     "metadata": {
      "needs_background": "light"
     },
     "output_type": "display_data"
    }
   ],
   "source": [
    "plt.rcParams[\"figure.figsize\"] = (10,6)\n",
    "plt.hist(data['mpi'],bins = 25);\n",
    "plt.title('MPI histogram',fontweight = 'bold')"
   ]
  },
  {
   "cell_type": "code",
   "execution_count": 40,
   "id": "76732992",
   "metadata": {},
   "outputs": [],
   "source": [
    "X = data[['nightlight_per_capita','population_density']]\n",
    "y = data['mpi']"
   ]
  },
  {
   "cell_type": "code",
   "execution_count": 41,
   "id": "28da0908",
   "metadata": {},
   "outputs": [
    {
     "name": "stdout",
     "output_type": "stream",
     "text": [
      "The correlation of mpi with nightlight_per_capita:  -0.546978007849899\n",
      "The correlation of mpi with population_density:  -0.48713563641537977\n"
     ]
    }
   ],
   "source": [
    "#i\n",
    "lis1 = []\n",
    "for i in X:\n",
    "    lis1.append(pd.Series.corr(data[i],y))\n",
    "    print('The correlation of mpi with '+i+': ',pd.Series.corr(data[i],y))"
   ]
  },
  {
   "cell_type": "code",
   "execution_count": 42,
   "id": "b81e7ba1",
   "metadata": {},
   "outputs": [
    {
     "data": {
      "text/plain": [
       "[-0.546978007849899, -0.48713563641537977]"
      ]
     },
     "execution_count": 42,
     "metadata": {},
     "output_type": "execute_result"
    }
   ],
   "source": [
    "lis1"
   ]
  },
  {
   "cell_type": "code",
   "execution_count": 43,
   "id": "62530a92",
   "metadata": {},
   "outputs": [
    {
     "name": "stdout",
     "output_type": "stream",
     "text": [
      "The correlation of mpi with log nightlight_per_capita:  -0.6053583063186241\n",
      "The correlation of mpi with log population_density:  -0.6174372888367271\n"
     ]
    }
   ],
   "source": [
    "#ii\n",
    "lis2 = []\n",
    "for i in X:\n",
    "    lis2.append(pd.Series.corr(np.log(data[i]),y))\n",
    "    print('The correlation of mpi with log '+i+': ',pd.Series.corr(np.log(data[i]),y))"
   ]
  },
  {
   "cell_type": "code",
   "execution_count": 44,
   "id": "f5c3afb0",
   "metadata": {},
   "outputs": [
    {
     "data": {
      "text/plain": [
       "[-0.6053583063186241, -0.6174372888367271]"
      ]
     },
     "execution_count": 44,
     "metadata": {},
     "output_type": "execute_result"
    }
   ],
   "source": [
    "lis2"
   ]
  },
  {
   "cell_type": "code",
   "execution_count": 45,
   "id": "cabecb7f",
   "metadata": {},
   "outputs": [
    {
     "name": "stdout",
     "output_type": "stream",
     "text": [
      "The correlation of log mpi with nightlight_per_capita:  -0.6604966836916585\n",
      "The correlation of log mpi with population_density:  -0.6682808064591083\n"
     ]
    }
   ],
   "source": [
    "#iii\n",
    "lis3 = []\n",
    "for i in X:\n",
    "    lis3.append(pd.Series.corr(data[i],np.log(y)))\n",
    "    print('The correlation of log mpi with '+i+': ',pd.Series.corr(data[i],np.log(y)))"
   ]
  },
  {
   "cell_type": "code",
   "execution_count": 46,
   "id": "87205dd5",
   "metadata": {},
   "outputs": [
    {
     "data": {
      "text/plain": [
       "[-0.6604966836916585, -0.6682808064591083]"
      ]
     },
     "execution_count": 46,
     "metadata": {},
     "output_type": "execute_result"
    }
   ],
   "source": [
    "lis3"
   ]
  },
  {
   "cell_type": "code",
   "execution_count": 47,
   "id": "4b768ea6",
   "metadata": {},
   "outputs": [
    {
     "name": "stdout",
     "output_type": "stream",
     "text": [
      "The correlation of log mpi with log nightlight_per_capita:  -0.6383042350797379\n",
      "The correlation of log mpi with log population_density:  -0.7453312898008178\n"
     ]
    }
   ],
   "source": [
    "#iv\n",
    "lis4 = []\n",
    "for i in X:\n",
    "    lis4.append(pd.Series.corr(np.log(data[i]),np.log(y)))\n",
    "    print('The correlation of log mpi with log '+i+': ',pd.Series.corr(np.log(data[i]),np.log(y)))"
   ]
  },
  {
   "cell_type": "code",
   "execution_count": 48,
   "id": "e712161a",
   "metadata": {},
   "outputs": [
    {
     "data": {
      "text/plain": [
       "[-0.6383042350797379, -0.7453312898008178]"
      ]
     },
     "execution_count": 48,
     "metadata": {},
     "output_type": "execute_result"
    }
   ],
   "source": [
    "lis4"
   ]
  },
  {
   "cell_type": "code",
   "execution_count": 70,
   "id": "80c497dc",
   "metadata": {},
   "outputs": [],
   "source": [
    "table2 = pd.DataFrame(index = ['nightlight_per_capita','population_density'])"
   ]
  },
  {
   "cell_type": "code",
   "execution_count": 71,
   "id": "ff897a7d",
   "metadata": {},
   "outputs": [],
   "source": [
    "table2['X vs y'] = lis1\n",
    "table2['log X vs y'] = lis2\n",
    "table2['X vs log y'] = lis3\n",
    "table2['log X vs log y'] =lis4"
   ]
  },
  {
   "cell_type": "code",
   "execution_count": 75,
   "id": "ad6b0133",
   "metadata": {},
   "outputs": [
    {
     "data": {
      "text/plain": [
       "nightlight_per_capita   -0.546978\n",
       "population_density      -0.487136\n",
       "Name: X vs y, dtype: float64"
      ]
     },
     "execution_count": 75,
     "metadata": {},
     "output_type": "execute_result"
    }
   ],
   "source": [
    "table2['X vs y']"
   ]
  },
  {
   "cell_type": "code",
   "execution_count": 76,
   "id": "9df1831e",
   "metadata": {},
   "outputs": [
    {
     "data": {
      "text/plain": [
       "nightlight_per_capita   -0.605358\n",
       "population_density      -0.617437\n",
       "Name: log X vs y, dtype: float64"
      ]
     },
     "execution_count": 76,
     "metadata": {},
     "output_type": "execute_result"
    }
   ],
   "source": [
    "table2['log X vs y']"
   ]
  },
  {
   "cell_type": "code",
   "execution_count": 77,
   "id": "9e21b572",
   "metadata": {},
   "outputs": [
    {
     "data": {
      "text/plain": [
       "nightlight_per_capita   -0.660497\n",
       "population_density      -0.668281\n",
       "Name: X vs log y, dtype: float64"
      ]
     },
     "execution_count": 77,
     "metadata": {},
     "output_type": "execute_result"
    }
   ],
   "source": [
    "table2['X vs log y']"
   ]
  },
  {
   "cell_type": "code",
   "execution_count": 78,
   "id": "43407509",
   "metadata": {},
   "outputs": [
    {
     "data": {
      "text/plain": [
       "nightlight_per_capita   -0.638304\n",
       "population_density      -0.745331\n",
       "Name: log X vs log y, dtype: float64"
      ]
     },
     "execution_count": 78,
     "metadata": {},
     "output_type": "execute_result"
    }
   ],
   "source": [
    "table2['log X vs log y']"
   ]
  },
  {
   "cell_type": "code",
   "execution_count": 79,
   "id": "af700579",
   "metadata": {},
   "outputs": [
    {
     "data": {
      "text/html": [
       "<div>\n",
       "<style scoped>\n",
       "    .dataframe tbody tr th:only-of-type {\n",
       "        vertical-align: middle;\n",
       "    }\n",
       "\n",
       "    .dataframe tbody tr th {\n",
       "        vertical-align: top;\n",
       "    }\n",
       "\n",
       "    .dataframe thead th {\n",
       "        text-align: right;\n",
       "    }\n",
       "</style>\n",
       "<table border=\"1\" class=\"dataframe\">\n",
       "  <thead>\n",
       "    <tr style=\"text-align: right;\">\n",
       "      <th></th>\n",
       "      <th>nightlight_per_capita</th>\n",
       "      <th>population_density</th>\n",
       "    </tr>\n",
       "  </thead>\n",
       "  <tbody>\n",
       "    <tr>\n",
       "      <th>X vs y</th>\n",
       "      <td>-0.546978</td>\n",
       "      <td>-0.487136</td>\n",
       "    </tr>\n",
       "    <tr>\n",
       "      <th>log X vs y</th>\n",
       "      <td>-0.605358</td>\n",
       "      <td>-0.617437</td>\n",
       "    </tr>\n",
       "    <tr>\n",
       "      <th>X vs log y</th>\n",
       "      <td>-0.660497</td>\n",
       "      <td>-0.668281</td>\n",
       "    </tr>\n",
       "    <tr>\n",
       "      <th>log X vs log y</th>\n",
       "      <td>-0.638304</td>\n",
       "      <td>-0.745331</td>\n",
       "    </tr>\n",
       "  </tbody>\n",
       "</table>\n",
       "</div>"
      ],
      "text/plain": [
       "                nightlight_per_capita  population_density\n",
       "X vs y                      -0.546978           -0.487136\n",
       "log X vs y                  -0.605358           -0.617437\n",
       "X vs log y                  -0.660497           -0.668281\n",
       "log X vs log y              -0.638304           -0.745331"
      ]
     },
     "execution_count": 79,
     "metadata": {},
     "output_type": "execute_result"
    }
   ],
   "source": [
    "table2.T"
   ]
  },
  {
   "cell_type": "code",
   "execution_count": 49,
   "id": "7fff869b",
   "metadata": {},
   "outputs": [],
   "source": [
    "X = pd.DataFrame([np.log(data['population_density']),data['nightlight_per_capita']]).T\n",
    "y = np.log(data['mpi'])"
   ]
  },
  {
   "cell_type": "markdown",
   "id": "15118dfd",
   "metadata": {},
   "source": [
    "### Building models"
   ]
  },
  {
   "cell_type": "markdown",
   "id": "2ff8640d",
   "metadata": {},
   "source": [
    "#### Backward_stepwise"
   ]
  },
  {
   "cell_type": "code",
   "execution_count": 50,
   "id": "fb5692bd",
   "metadata": {},
   "outputs": [],
   "source": [
    "def backward_regression(X, y,\n",
    "                           threshold_out,\n",
    "                           verbose=False):\n",
    "    included=list(X.columns)\n",
    "    while True:\n",
    "        changed=False\n",
    "        model = sm.OLS(y, sm.add_constant(pd.DataFrame(X[included]))).fit()\n",
    "        # use all coefs except intercept\n",
    "        pvalues = model.pvalues.iloc[1:]\n",
    "        worst_pval = pvalues.max() # null if pvalues is empty\n",
    "        if worst_pval > threshold_out:\n",
    "            changed=True\n",
    "            worst_feature = pvalues.idxmax()\n",
    "            included.remove(worst_feature)\n",
    "            if verbose:\n",
    "                print('Drop {:30} with p-value {:.6}'.format(worst_feature, worst_pval))\n",
    "        if not changed:\n",
    "            break\n",
    "    return pvalues"
   ]
  },
  {
   "cell_type": "code",
   "execution_count": 51,
   "id": "17e6530b",
   "metadata": {},
   "outputs": [
    {
     "data": {
      "text/plain": [
       "population_density       3.531911e-59\n",
       "nightlight_per_capita    8.738206e-38\n",
       "dtype: float64"
      ]
     },
     "execution_count": 51,
     "metadata": {},
     "output_type": "execute_result"
    }
   ],
   "source": [
    "backward_regression(X, y,0.05)"
   ]
  },
  {
   "cell_type": "code",
   "execution_count": 52,
   "id": "09225a77",
   "metadata": {},
   "outputs": [],
   "source": [
    "model1 = sm.OLS(y,sm.add_constant(X)).fit()"
   ]
  },
  {
   "cell_type": "code",
   "execution_count": 53,
   "id": "39335216",
   "metadata": {},
   "outputs": [],
   "source": [
    "ypredict1 = model1.predict(sm.add_constant(X))"
   ]
  },
  {
   "cell_type": "code",
   "execution_count": 54,
   "id": "3fc7d451",
   "metadata": {},
   "outputs": [
    {
     "data": {
      "text/plain": [
       "0.9999999999997636"
      ]
     },
     "execution_count": 54,
     "metadata": {},
     "output_type": "execute_result"
    }
   ],
   "source": [
    "tvalues,pvalues = ttest_ind(y,ypredict1)\n",
    "pvalues"
   ]
  },
  {
   "cell_type": "markdown",
   "id": "24061949",
   "metadata": {},
   "source": [
    "#### Ridge Regression"
   ]
  },
  {
   "cell_type": "code",
   "execution_count": 55,
   "id": "5c43994f",
   "metadata": {},
   "outputs": [],
   "source": [
    "model2 = RidgeCV().fit(X,y)"
   ]
  },
  {
   "cell_type": "code",
   "execution_count": 56,
   "id": "f0dc376b",
   "metadata": {},
   "outputs": [],
   "source": [
    "ypredict2 = model2.predict(X)"
   ]
  },
  {
   "cell_type": "code",
   "execution_count": 57,
   "id": "d7dd4344",
   "metadata": {},
   "outputs": [
    {
     "data": {
      "text/plain": [
       "array([0.        , 0.        , 0.84052572])"
      ]
     },
     "execution_count": 57,
     "metadata": {},
     "output_type": "execute_result"
    }
   ],
   "source": [
    "stats.coef_pval(model2,X,y)"
   ]
  },
  {
   "cell_type": "code",
   "execution_count": 58,
   "id": "06796d09",
   "metadata": {},
   "outputs": [
    {
     "data": {
      "text/plain": [
       "0.9999999999999117"
      ]
     },
     "execution_count": 58,
     "metadata": {},
     "output_type": "execute_result"
    }
   ],
   "source": [
    "tvalues,pvalues = ttest_ind(y,ypredict2)\n",
    "pvalues"
   ]
  },
  {
   "cell_type": "markdown",
   "id": "7e550aa8",
   "metadata": {},
   "source": [
    "#### Elastic net"
   ]
  },
  {
   "cell_type": "code",
   "execution_count": 59,
   "id": "a40dc061",
   "metadata": {},
   "outputs": [
    {
     "data": {
      "text/plain": [
       "array([0.        , 0.        , 0.96298745])"
      ]
     },
     "execution_count": 59,
     "metadata": {},
     "output_type": "execute_result"
    }
   ],
   "source": [
    "model3 = ElasticNetCV().fit(X,y)\n",
    "stats.coef_pval(model3,X,y)"
   ]
  },
  {
   "cell_type": "code",
   "execution_count": 60,
   "id": "07845706",
   "metadata": {},
   "outputs": [],
   "source": [
    "ypredict3 = model3.predict(X)"
   ]
  },
  {
   "cell_type": "code",
   "execution_count": 61,
   "id": "67aad9e4",
   "metadata": {},
   "outputs": [
    {
     "data": {
      "text/plain": [
       "0.9999999999999823"
      ]
     },
     "execution_count": 61,
     "metadata": {},
     "output_type": "execute_result"
    }
   ],
   "source": [
    "tvalues,pvalues = ttest_ind(y,ypredict3)\n",
    "pvalues"
   ]
  },
  {
   "cell_type": "code",
   "execution_count": 62,
   "id": "feeb74d6",
   "metadata": {},
   "outputs": [],
   "source": [
    "model = Lasso(alpha = 0.0001).fit(X,y)"
   ]
  },
  {
   "cell_type": "code",
   "execution_count": 63,
   "id": "55adbc38",
   "metadata": {},
   "outputs": [],
   "source": [
    "yhat = pd.Series(model.predict(X))"
   ]
  },
  {
   "cell_type": "code",
   "execution_count": 80,
   "id": "211deeca",
   "metadata": {},
   "outputs": [
    {
     "data": {
      "text/plain": [
       "0   -3.539205\n",
       "1   -2.219374\n",
       "2   -2.299383\n",
       "3   -3.312006\n",
       "4   -1.813874\n",
       "dtype: float64"
      ]
     },
     "execution_count": 80,
     "metadata": {},
     "output_type": "execute_result"
    }
   ],
   "source": [
    "yhat.head()"
   ]
  },
  {
   "cell_type": "code",
   "execution_count": 64,
   "id": "f8dd12b9",
   "metadata": {},
   "outputs": [
    {
     "data": {
      "text/plain": [
       "0.8327659180951863"
      ]
     },
     "execution_count": 64,
     "metadata": {},
     "output_type": "execute_result"
    }
   ],
   "source": [
    "pd.Series.corr(y,yhat)"
   ]
  },
  {
   "cell_type": "code",
   "execution_count": 65,
   "id": "ec30a4f2",
   "metadata": {},
   "outputs": [],
   "source": [
    "Rsquared = r2_score(y,yhat)"
   ]
  },
  {
   "cell_type": "code",
   "execution_count": 66,
   "id": "204f181a",
   "metadata": {},
   "outputs": [
    {
     "data": {
      "text/plain": [
       "0.6922319568276327"
      ]
     },
     "execution_count": 66,
     "metadata": {},
     "output_type": "execute_result"
    }
   ],
   "source": [
    "Rsquared"
   ]
  },
  {
   "cell_type": "code",
   "execution_count": 67,
   "id": "40e591ae",
   "metadata": {},
   "outputs": [],
   "source": [
    "data['logmpi'] = y\n",
    "data['yhat'] = yhat"
   ]
  },
  {
   "cell_type": "code",
   "execution_count": 68,
   "id": "0444a6c8",
   "metadata": {},
   "outputs": [],
   "source": [
    "data.to_excel('C:/Users/quizd/OneDrive/Desktop/Assignment3/MPIAssignment.xlsx',\n",
    "                  index=False)"
   ]
  }
 ],
 "metadata": {
  "kernelspec": {
   "display_name": "Python 3 (ipykernel)",
   "language": "python",
   "name": "python3"
  },
  "language_info": {
   "codemirror_mode": {
    "name": "ipython",
    "version": 3
   },
   "file_extension": ".py",
   "mimetype": "text/x-python",
   "name": "python",
   "nbconvert_exporter": "python",
   "pygments_lexer": "ipython3",
   "version": "3.9.12"
  }
 },
 "nbformat": 4,
 "nbformat_minor": 5
}
